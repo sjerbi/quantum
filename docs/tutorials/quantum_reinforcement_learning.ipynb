{
 "cells": [
  {
   "cell_type": "markdown",
   "metadata": {},
   "source": [
    "##### Copyright 2021 The TensorFlow Authors."
   ]
  },
  {
   "cell_type": "code",
   "execution_count": 1,
   "metadata": {},
   "outputs": [],
   "source": [
    "#@title Licensed under the Apache License, Version 2.0 (the \"License\");\n",
    "# you may not use this file except in compliance with the License.\n",
    "# You may obtain a copy of the License at\n",
    "#\n",
    "# https://www.apache.org/licenses/LICENSE-2.0\n",
    "#\n",
    "# Unless required by applicable law or agreed to in writing, software\n",
    "# distributed under the License is distributed on an \"AS IS\" BASIS,\n",
    "# WITHOUT WARRANTIES OR CONDITIONS OF ANY KIND, either express or implied.\n",
    "# See the License for the specific language governing permissions and\n",
    "# limitations under the License."
   ]
  },
  {
   "cell_type": "markdown",
   "metadata": {},
   "source": [
    "# Parametrized Quantum Circuits for Reinforcement Learning"
   ]
  },
  {
   "cell_type": "markdown",
   "metadata": {},
   "source": [
    "<table class=\"tfo-notebook-buttons\" align=\"left\">\n",
    "  <td>\n",
    "    <a target=\"_blank\" href=\"https://www.tensorflow.org/quantum/tutorials/quantum_reinforcement_learning\"><img src=\"https://www.tensorflow.org/images/tf_logo_32px.png\" />View on TensorFlow.org</a>\n",
    "  </td>\n",
    "  <td>\n",
    "    <a target=\"_blank\" href=\"https://colab.research.google.com/github/tensorflow/quantum/blob/master/docs/tutorials/quantum_reinforcement_learning.ipynb\"><img src=\"https://www.tensorflow.org/images/colab_logo_32px.png\" />Run in Google Colab</a>\n",
    "  </td>\n",
    "  <td>\n",
    "    <a target=\"_blank\" href=\"https://github.com/tensorflow/quantum/blob/master/docs/tutorials/quantum_reinforcement_learning.ipynb\"><img src=\"https://www.tensorflow.org/images/GitHub-Mark-32px.png\" />View source on GitHub</a>\n",
    "  </td>\n",
    "  <td>\n",
    "    <a href=\"https://storage.googleapis.com/tensorflow_docs/quantum/docs/tutorials/quantum_reinforcement_learning.ipynb\"><img src=\"https://www.tensorflow.org/images/download_logo_32px.png\" />Download notebook</a>\n",
    "  </td>\n",
    "</table>"
   ]
  },
  {
   "cell_type": "markdown",
   "metadata": {},
   "source": [
    "In this tutorial, you will implement two reinforcement learning (RL) algorithms based on parametrized/variational quantum circuits (PQCs or VQCs), namely a policy-gradient and a deep Q-learning implementation. These algorithms were introduced by [[1] Jerbi et al.](https://arxiv.org/abs/2103.05577) and [[2] Skolik et al.](https://arxiv.org/abs/2103.15084), respectively."
   ]
  },
  {
   "cell_type": "markdown",
   "metadata": {},
   "source": [
    "You will implement a PQC with data re-uploading in TFQ, and use it as:\n",
    "1. an RL policy trained with a policy-gradient method,\n",
    "2. a Q-function approximator trained with deep Q-learning,\n",
    "\n",
    "each solving [CartPole-v1](http://gym.openai.com/envs/CartPole-v1/), a benchmarking task from OpenAI Gym. Note that, as showcased in [[1]](https://arxiv.org/abs/2103.05577) and [[2]](https://arxiv.org/abs/2103.15084), these agents can also be used to solve other task-environment from OpenAI Gym, such as [FrozenLake-v0](http://gym.openai.com/envs/FrozenLake-v0/), [MountainCar-v0](http://gym.openai.com/envs/MountainCar-v0/) or [Acrobot-v1](http://gym.openai.com/envs/Acrobot-v1/)."
   ]
  },
  {
   "cell_type": "markdown",
   "metadata": {},
   "source": [
    "Features of this implementation:\n",
    "- you will learn how to use a `tfq.layers.ControlledPQC` to implement a PQC with data re-uploading, appearing in many applications of QML. This implementation also naturally allows using trainable scaling parameters at the input of the PQC, to increase its expressivity,\n",
    "- you will learn how to implement observables with trainable weights at the output of a PQC, to allow a flexible range of output values,\n",
    "- you will learn how a `tf.keras.Model` can be trained with non-trivial ML loss functions, i.e., that are not compatible with `model.compile` and `model.fit`, using a `tf.GradientTape`."
   ]
  },
  {
   "cell_type": "markdown",
   "metadata": {},
   "source": [
    "## Setup"
   ]
  },
  {
   "cell_type": "markdown",
   "metadata": {},
   "source": [
    "Install TensorFlow:"
   ]
  },
  {
   "cell_type": "code",
   "execution_count": null,
   "metadata": {},
   "outputs": [],
   "source": [
    "!pip install -q tensorflow==2.3.1"
   ]
  },
  {
   "cell_type": "markdown",
   "metadata": {},
   "source": [
    "Install TensorFlow Quantum:"
   ]
  },
  {
   "cell_type": "code",
   "execution_count": null,
   "metadata": {},
   "outputs": [],
   "source": [
    "!pip install -q tensorflow-quantum"
   ]
  },
  {
   "cell_type": "markdown",
   "metadata": {},
   "source": [
    "Install Gym:"
   ]
  },
  {
   "cell_type": "code",
   "execution_count": null,
   "metadata": {},
   "outputs": [],
   "source": [
    "!pip install -q gym==0.18.0"
   ]
  },
  {
   "cell_type": "markdown",
   "metadata": {},
   "source": [
    "Now import TensorFlow and the module dependencies:"
   ]
  },
  {
   "cell_type": "code",
   "execution_count": 1,
   "metadata": {},
   "outputs": [],
   "source": [
    "import tensorflow as tf\n",
    "import tensorflow_quantum as tfq\n",
    "\n",
    "import gym, cirq, sympy, random\n",
    "import numpy as np\n",
    "from functools import reduce\n",
    "from collections import deque\n",
    "from collections import namedtuple\n",
    "import matplotlib.pyplot as plt"
   ]
  },
  {
   "cell_type": "markdown",
   "metadata": {},
   "source": [
    "## 1. Build a PQC with data re-uploading"
   ]
  },
  {
   "cell_type": "markdown",
   "metadata": {},
   "source": [
    "At the core of both RL algorithms you are implementing is a PQC that takes as input the agent's state $s$ in the environment (i.e., a numpy array) and outputs a vector of expectation values. These expectation values are then post-processed, either to produce an agent's policy $\\pi(a|s)$ or approximate Q-values $Q(s,a)$. In this way, the PQCs are playing an analog role to that of deep neural networks in modern deep RL algorithms.\n",
    "\n",
    "A popular way to encode an input vector in a PQC is through the use of single-qubit rotations, where rotation angles are controlled by the components of this input vector. In order to get a [highly-expressive model](https://arxiv.org/abs/2008.08605), these single-qubit encodings are not performed only once in the PQC, but in several \"[re-uploadings](https://quantum-journal.org/papers/q-2020-02-06-226/)\", interlayed with variational gates. The layout of such a PQC is depicted below:\n",
    "\n",
    "<img src=\"./images/pqc_re-uploading.png\" width=\"700\">"
   ]
  },
  {
   "cell_type": "markdown",
   "metadata": {},
   "source": [
    "As discussed in [[1]](https://arxiv.org/abs/2103.05577) and [[2]](https://arxiv.org/abs/2103.15084), a way to further enhance the expressivity and trainability of data re-uploading PQCs is to use trainable input-scaling parameters $\\boldsymbol{\\lambda}$ for each encoding gate of the PQC, and trainable observable weights $\\boldsymbol{w}$ at its output."
   ]
  },
  {
   "cell_type": "markdown",
   "metadata": {},
   "source": [
    "### 1.1 Cirq circuit for ControlledPQC"
   ]
  },
  {
   "cell_type": "markdown",
   "metadata": {},
   "source": [
    "The first step is to implement in Cirq the quantum circuit to be used by the PQC. For this, start by defining basic unitaries to be applied in the circuits, namely an arbitrary single-qubit rotation and an entangling layer of CZ gates:"
   ]
  },
  {
   "cell_type": "code",
   "execution_count": 2,
   "metadata": {},
   "outputs": [],
   "source": [
    "def one_qubit_rotation(qubit, symbols):\n",
    "    \"\"\"\n",
    "    Returns a Cirq circuit that applies a rotation of the bloch sphere about the X,\n",
    "    Y and Z axis, specified by the values in `symbols`.\n",
    "    \"\"\"\n",
    "    return cirq.Circuit(\n",
    "        cirq.rx(symbols[0])(qubit),\n",
    "        cirq.ry(symbols[1])(qubit),\n",
    "        cirq.rz(symbols[2])(qubit))\n",
    "\n",
    "def entangling_layer(qubits):\n",
    "    \"\"\"\n",
    "    Returns a Cirq circuit that applies a layer of entangling gates (arranged in a circular topology).\n",
    "    \"\"\"\n",
    "    if len(qubits) == 2:\n",
    "        return cirq.Circuit(cirq.CZ(qubits[0], qubits[1]))\n",
    "    else:\n",
    "        return cirq.Circuit(cirq.CZ(qubits[i], qubits[(i + 1) % len(qubits)]) for i in range(len(qubits)))"
   ]
  },
  {
   "cell_type": "markdown",
   "metadata": {},
   "source": [
    "Now, use these functions to generate the Cirq circuit:"
   ]
  },
  {
   "cell_type": "code",
   "execution_count": 3,
   "metadata": {},
   "outputs": [],
   "source": [
    "def generate_circuit(n, L, qubits):\n",
    "    \"\"\"\n",
    "    Takes as input a number of qubits n, a number of layers L, and the qubits of the circuit.\n",
    "    Returns a cirq circuit, the number of variational parameters, and the sympy symbols\n",
    "    of variational and encoding angles.\n",
    "    \"\"\"\n",
    "    # Number of variational angles\n",
    "    theta_dim = 3*n*(L+1)\n",
    "    \n",
    "    # Sympy symbols for variational angles and encoding angles\n",
    "    params = sympy.symbols('theta(0:'+str(theta_dim)+')')\n",
    "    inputs = sympy.symbols(f'x(0:{n})'+f'(0:{L})') # every input component encoded in one gate\n",
    "                                                                # per layer\n",
    "    \n",
    "    # Define circuit\n",
    "    circuit = cirq.Circuit()\n",
    "    for l in range(L):\n",
    "        # Variational layer\n",
    "        for i in range(n):\n",
    "            circuit += one_qubit_rotation(qubits[i], params[3*(l*n+i):3*(l*n+i+1)])\n",
    "        circuit += entangling_layer(qubits)\n",
    "        # Encoding layer\n",
    "        for i in range(n):\n",
    "            circuit += cirq.rx(inputs[l+i*L])(qubits[i])\n",
    "    # Last variational layer\n",
    "    for i in range(n):\n",
    "        circuit += one_qubit_rotation(qubits[i], params[3*(L*n+i):3*(L*n+i+1)])\n",
    "    \n",
    "    return circuit, theta_dim, params, inputs"
   ]
  },
  {
   "cell_type": "markdown",
   "metadata": {},
   "source": [
    "Check that this produces a circuit that is alternating between variational and encoding layers."
   ]
  },
  {
   "cell_type": "code",
   "execution_count": 4,
   "metadata": {},
   "outputs": [],
   "source": [
    "n, L = 3, 1 # Number of qubits, number of layers\n",
    "# Define qubits\n",
    "qubits = [cirq.GridQubit(i,0) for i in range(n)]\n",
    "# Generate circuit\n",
    "circuit, _, _, _ = generate_circuit(n, L, qubits)"
   ]
  },
  {
   "cell_type": "code",
   "execution_count": 5,
   "metadata": {},
   "outputs": [
    {
     "name": "stderr",
     "output_type": "stream",
     "text": [
      "findfont: Font family ['Arial'] not found. Falling back to DejaVu Sans.\n"
     ]
    },
    {
     "data": {
      "image/svg+xml": [
       "<svg xmlns=\"http://www.w3.org/2000/svg\" width=\"2337.055156250001\" height=\"190.0\"><line x1=\"34.7588671875\" x2=\"2307.055156250001\" y1=\"45.0\" y2=\"45.0\" stroke=\"#1967d2\" stroke-width=\"1\" /><line x1=\"34.7588671875\" x2=\"2307.055156250001\" y1=\"95.0\" y2=\"95.0\" stroke=\"#1967d2\" stroke-width=\"1\" /><line x1=\"34.7588671875\" x2=\"2307.055156250001\" y1=\"145.0\" y2=\"145.0\" stroke=\"#1967d2\" stroke-width=\"1\" /><line x1=\"1105.1980078125002\" x2=\"1217.6575390625003\" y1=\"5.0\" y2=\"5.0\" stroke=\"black\" stroke-width=\"1\" /><line x1=\"1105.1980078125002\" x2=\"1217.6575390625003\" y1=\"185.0\" y2=\"185.0\" stroke=\"black\" stroke-width=\"1\" /><line x1=\"1015.1980078125001\" x2=\"1015.1980078125001\" y1=\"45.0\" y2=\"95.0\" stroke=\"black\" stroke-width=\"3\" /><line x1=\"1075.1980078125002\" x2=\"1075.1980078125002\" y1=\"95.0\" y2=\"145.0\" stroke=\"black\" stroke-width=\"3\" /><line x1=\"1125.1980078125002\" x2=\"1125.1980078125002\" y1=\"45.0\" y2=\"145.0\" stroke=\"black\" stroke-width=\"3\" /><line x1=\"1105.1980078125002\" x2=\"1105.1980078125002\" y1=\"5.0\" y2=\"15.0\" stroke=\"black\" stroke-width=\"3\" /><line x1=\"1217.6575390625003\" x2=\"1217.6575390625003\" y1=\"5.0\" y2=\"15.0\" stroke=\"black\" stroke-width=\"3\" /><line x1=\"1105.1980078125002\" x2=\"1105.1980078125002\" y1=\"175.0\" y2=\"185.0\" stroke=\"black\" stroke-width=\"3\" /><line x1=\"1217.6575390625003\" x2=\"1217.6575390625003\" y1=\"175.0\" y2=\"185.0\" stroke=\"black\" stroke-width=\"3\" /><rect x=\"10.0\" y=\"25.0\" width=\"49.517734375\" height=\"40\" stroke=\"black\" fill=\"white\" stroke-width=\"0\" /><text x=\"34.7588671875\" y=\"45.0\" dominant-baseline=\"middle\" text-anchor=\"middle\" font-size=\"14px\" font-family=\"Arial\">(0, 0): </text><rect x=\"10.0\" y=\"75.0\" width=\"49.517734375\" height=\"40\" stroke=\"black\" fill=\"white\" stroke-width=\"0\" /><text x=\"34.7588671875\" y=\"95.0\" dominant-baseline=\"middle\" text-anchor=\"middle\" font-size=\"14px\" font-family=\"Arial\">(1, 0): </text><rect x=\"10.0\" y=\"125.0\" width=\"49.517734375\" height=\"40\" stroke=\"black\" fill=\"white\" stroke-width=\"0\" /><text x=\"34.7588671875\" y=\"145.0\" dominant-baseline=\"middle\" text-anchor=\"middle\" font-size=\"14px\" font-family=\"Arial\">(2, 0): </text><rect x=\"79.517734375\" y=\"25.0\" width=\"82.31109375000001\" height=\"40\" stroke=\"black\" fill=\"white\" stroke-width=\"1\" /><text x=\"120.67328125\" y=\"45.0\" dominant-baseline=\"middle\" text-anchor=\"middle\" font-size=\"14px\" font-family=\"Arial\">Rx(theta0)</text><rect x=\"181.82882812500003\" y=\"25.0\" width=\"81.54109375\" height=\"40\" stroke=\"black\" fill=\"white\" stroke-width=\"1\" /><text x=\"222.59937500000004\" y=\"45.0\" dominant-baseline=\"middle\" text-anchor=\"middle\" font-size=\"14px\" font-family=\"Arial\">Ry(theta1)</text><rect x=\"283.36992187500005\" y=\"25.0\" width=\"81.37457031250001\" height=\"40\" stroke=\"black\" fill=\"white\" stroke-width=\"1\" /><text x=\"324.0572070312501\" y=\"45.0\" dominant-baseline=\"middle\" text-anchor=\"middle\" font-size=\"14px\" font-family=\"Arial\">Rz(theta2)</text><rect x=\"384.74449218750004\" y=\"75.0\" width=\"82.31109375000001\" height=\"40\" stroke=\"black\" fill=\"white\" stroke-width=\"1\" /><text x=\"425.90003906250007\" y=\"95.0\" dominant-baseline=\"middle\" text-anchor=\"middle\" font-size=\"14px\" font-family=\"Arial\">Rx(theta3)</text><rect x=\"487.0555859375001\" y=\"75.0\" width=\"81.54109375\" height=\"40\" stroke=\"black\" fill=\"white\" stroke-width=\"1\" /><text x=\"527.8261328125001\" y=\"95.0\" dominant-baseline=\"middle\" text-anchor=\"middle\" font-size=\"14px\" font-family=\"Arial\">Ry(theta4)</text><rect x=\"588.5966796875\" y=\"75.0\" width=\"81.37457031250001\" height=\"40\" stroke=\"black\" fill=\"white\" stroke-width=\"1\" /><text x=\"629.28396484375\" y=\"95.0\" dominant-baseline=\"middle\" text-anchor=\"middle\" font-size=\"14px\" font-family=\"Arial\">Rz(theta5)</text><rect x=\"689.97125\" y=\"125.0\" width=\"82.31109375000001\" height=\"40\" stroke=\"black\" fill=\"white\" stroke-width=\"1\" /><text x=\"731.1267968750001\" y=\"145.0\" dominant-baseline=\"middle\" text-anchor=\"middle\" font-size=\"14px\" font-family=\"Arial\">Rx(theta6)</text><rect x=\"792.2823437500001\" y=\"125.0\" width=\"81.54109375\" height=\"40\" stroke=\"black\" fill=\"white\" stroke-width=\"1\" /><text x=\"833.0528906250001\" y=\"145.0\" dominant-baseline=\"middle\" text-anchor=\"middle\" font-size=\"14px\" font-family=\"Arial\">Ry(theta7)</text><rect x=\"893.8234375000001\" y=\"125.0\" width=\"81.37457031250001\" height=\"40\" stroke=\"black\" fill=\"white\" stroke-width=\"1\" /><text x=\"934.5107226562501\" y=\"145.0\" dominant-baseline=\"middle\" text-anchor=\"middle\" font-size=\"14px\" font-family=\"Arial\">Rz(theta8)</text><circle cx=\"1015.1980078125001\" cy=\"45.0\" r=\"10.0\" /><circle cx=\"1015.1980078125001\" cy=\"95.0\" r=\"10.0\" /><circle cx=\"1075.1980078125002\" cy=\"95.0\" r=\"10.0\" /><circle cx=\"1075.1980078125002\" cy=\"145.0\" r=\"10.0\" /><circle cx=\"1125.1980078125002\" cy=\"145.0\" r=\"10.0\" /><circle cx=\"1125.1980078125002\" cy=\"45.0\" r=\"10.0\" /><rect x=\"1145.1980078125002\" y=\"75.0\" width=\"62.459531250000005\" height=\"40\" stroke=\"black\" fill=\"white\" stroke-width=\"1\" /><text x=\"1176.4277734375003\" y=\"95.0\" dominant-baseline=\"middle\" text-anchor=\"middle\" font-size=\"14px\" font-family=\"Arial\">Rx(x10)</text><rect x=\"1237.6575390625003\" y=\"25.0\" width=\"62.45953125\" height=\"40\" stroke=\"black\" fill=\"white\" stroke-width=\"1\" /><text x=\"1268.8873046875003\" y=\"45.0\" dominant-baseline=\"middle\" text-anchor=\"middle\" font-size=\"14px\" font-family=\"Arial\">Rx(x00)</text><rect x=\"1237.6575390625003\" y=\"125.0\" width=\"62.45953125\" height=\"40\" stroke=\"black\" fill=\"white\" stroke-width=\"1\" /><text x=\"1268.8873046875003\" y=\"145.0\" dominant-baseline=\"middle\" text-anchor=\"middle\" font-size=\"14px\" font-family=\"Arial\">Rx(x20)</text><rect x=\"1320.1170703125003\" y=\"25.0\" width=\"82.31109375000001\" height=\"40\" stroke=\"black\" fill=\"white\" stroke-width=\"1\" /><text x=\"1361.2726171875004\" y=\"45.0\" dominant-baseline=\"middle\" text-anchor=\"middle\" font-size=\"14px\" font-family=\"Arial\">Rx(theta9)</text><rect x=\"1422.4281640625004\" y=\"25.0\" width=\"90.4483203125\" height=\"40\" stroke=\"black\" fill=\"white\" stroke-width=\"1\" /><text x=\"1467.6523242187504\" y=\"45.0\" dominant-baseline=\"middle\" text-anchor=\"middle\" font-size=\"14px\" font-family=\"Arial\">Ry(theta10)</text><rect x=\"1532.8764843750005\" y=\"25.0\" width=\"90.28179687500001\" height=\"40\" stroke=\"black\" fill=\"white\" stroke-width=\"1\" /><text x=\"1578.0173828125005\" y=\"45.0\" dominant-baseline=\"middle\" text-anchor=\"middle\" font-size=\"14px\" font-family=\"Arial\">Rz(theta11)</text><rect x=\"1643.1582812500005\" y=\"75.0\" width=\"91.21832031250001\" height=\"40\" stroke=\"black\" fill=\"white\" stroke-width=\"1\" /><text x=\"1688.7674414062506\" y=\"95.0\" dominant-baseline=\"middle\" text-anchor=\"middle\" font-size=\"14px\" font-family=\"Arial\">Rx(theta12)</text><rect x=\"1754.3766015625006\" y=\"75.0\" width=\"90.4483203125\" height=\"40\" stroke=\"black\" fill=\"white\" stroke-width=\"1\" /><text x=\"1799.6007617187506\" y=\"95.0\" dominant-baseline=\"middle\" text-anchor=\"middle\" font-size=\"14px\" font-family=\"Arial\">Ry(theta13)</text><rect x=\"1864.8249218750007\" y=\"75.0\" width=\"90.28179687500001\" height=\"40\" stroke=\"black\" fill=\"white\" stroke-width=\"1\" /><text x=\"1909.9658203125007\" y=\"95.0\" dominant-baseline=\"middle\" text-anchor=\"middle\" font-size=\"14px\" font-family=\"Arial\">Rz(theta14)</text><rect x=\"1975.1067187500007\" y=\"125.0\" width=\"91.21832031250001\" height=\"40\" stroke=\"black\" fill=\"white\" stroke-width=\"1\" /><text x=\"2020.7158789062507\" y=\"145.0\" dominant-baseline=\"middle\" text-anchor=\"middle\" font-size=\"14px\" font-family=\"Arial\">Rx(theta15)</text><rect x=\"2086.3250390625008\" y=\"125.0\" width=\"90.4483203125\" height=\"40\" stroke=\"black\" fill=\"white\" stroke-width=\"1\" /><text x=\"2131.549199218751\" y=\"145.0\" dominant-baseline=\"middle\" text-anchor=\"middle\" font-size=\"14px\" font-family=\"Arial\">Ry(theta16)</text><rect x=\"2196.773359375001\" y=\"125.0\" width=\"90.28179687500001\" height=\"40\" stroke=\"black\" fill=\"white\" stroke-width=\"1\" /><text x=\"2241.9142578125006\" y=\"145.0\" dominant-baseline=\"middle\" text-anchor=\"middle\" font-size=\"14px\" font-family=\"Arial\">Rz(theta17)</text></svg>"
      ],
      "text/plain": [
       "<cirq.contrib.svg.svg.SVGCircuit at 0x7fcf942f1fd0>"
      ]
     },
     "execution_count": 5,
     "metadata": {},
     "output_type": "execute_result"
    }
   ],
   "source": [
    "from cirq.contrib.svg import SVGCircuit\n",
    "\n",
    "SVGCircuit(circuit)"
   ]
  },
  {
   "cell_type": "markdown",
   "metadata": {},
   "source": [
    "### 1.2 Encoding layer for ControlledPQC\n",
    "\n",
    "To construct the re-uploading PQC from the figure above, you can create a custom Keras layer. This layer will manage the trainable parameters (variational angles $\\boldsymbol{\\theta}$ and input-scaling parameters $\\boldsymbol{\\lambda}$) and resolve the input values (input state $s$) into the appropriate symbols in the circuit."
   ]
  },
  {
   "cell_type": "code",
   "execution_count": 6,
   "metadata": {},
   "outputs": [],
   "source": [
    "class Encoding(tf.keras.layers.Layer):\n",
    "    \"\"\"\n",
    "    Stores all the variational parameters of the PQC, except for the observable weights,\n",
    "        i.e., angles theta for variational gates and scaling parameters lmbd for encoding gates.\n",
    "    Performs the transformation (s_1, ..., s_d) -> (theta_1, ..., theta_N, lmbd[1][1]s_1, ..., lmbd[1][M]s_1,\n",
    "        ......., lmbd[d][1]s_d, ..., lmbd[d][M]s_d) for d=input_dim, N=theta_dim and M=encoding_dim.\n",
    "    An activation function from tf.keras.activations and specified by `activation` ('linear' by default) is\n",
    "        then applied to all lmbd[i][j]s_i. For instance, the 'tanh' activation is useful for the Q-learning\n",
    "        model to bound all angles to [-1,1].\n",
    "    These are finally permuted such as to follow the alphabetical order of their names (provided in `angles`),\n",
    "        as processed by the ControlledPQC.\n",
    "    \"\"\"\n",
    "    def __init__(self, input_dim, theta_dim, encoding_dim, angles, activation='linear', name=\"encoding\"):\n",
    "        super(Encoding, self).__init__(name=name)\n",
    "        self.input_dim = input_dim # dimension of input vector\n",
    "        self.theta_dim = theta_dim # dimension of variational params vector\n",
    "        self.encoding_dim = encoding_dim # number of repetitions of encoding of single input component\n",
    "        theta_init = tf.random_uniform_initializer(minval=0., maxval=np.pi)\n",
    "        self.theta = tf.Variable(\n",
    "            initial_value=theta_init(shape=(1, theta_dim), dtype=\"float32\"),\n",
    "            trainable=True, name=\"thetas\"\n",
    "        )\n",
    "        lmbd_init = tf.ones(shape=(1,input_dim*encoding_dim))\n",
    "        self.lmbd = tf.Variable(\n",
    "            initial_value=lmbd_init, dtype=\"float32\",\n",
    "            trainable=True, name=\"lambdas\"\n",
    "        )\n",
    "        alphabetical_angles = sorted(angles)\n",
    "        self.indices = tf.constant([alphabetical_angles.index(a) for a in angles]) # re-ordering of indices to\n",
    "                                                                # match order of expectation_layer.symbols\n",
    "        self.activation = activation # activation to be applied on the encoding angles\n",
    "\n",
    "    def call(self, inputs):\n",
    "        output = tf.repeat(self.theta,repeats=tf.shape(inputs)[0],axis=0)\n",
    "        repeat_inputs = tf.repeat(inputs,repeats=self.encoding_dim,axis=1)\n",
    "        repeat_lmbd = tf.repeat(self.lmbd,repeats=tf.shape(inputs)[0],axis=0)\n",
    "        output = tf.concat([output, tf.keras.layers.Activation(self.activation)\n",
    "                            (tf.math.multiply(repeat_inputs, repeat_lmbd))], 1)\n",
    "        output = tf.gather(output, self.indices, axis=1) # re-ordering of indices to match order\n",
    "                                                        # of expectation_layer.symbols\n",
    "        return output"
   ]
  },
  {
   "cell_type": "markdown",
   "metadata": {},
   "source": [
    "## 2. Policy-gradient RL with PQC policies"
   ]
  },
  {
   "cell_type": "markdown",
   "metadata": {},
   "source": [
    "In this section, you will implement the policy-gradient algorithm presented in <a href=\"https://arxiv.org/abs/2103.05577\" class=\"external\">[1]</a>. For this, you will start by constructing, out of the PQC we just defined, the `softmax-VQC` policy (where VQC stands for variational quantum circuit):\n",
    "$$ \\pi_\\theta(a|s) = \\frac{e^{\\beta \\langle O_a \\rangle_{s,\\theta}}}{\\sum_{a'} e^{\\beta \\langle O_{a'} \\rangle_{s,\\theta}}} $$\n",
    "where $\\langle O_a \\rangle_{s,\\theta}$ are expectation values of observables $O_a$ (one per action) measured at the output of the PQC, and $\\beta$ is a tunable inverse-temperature parameter. "
   ]
  },
  {
   "cell_type": "markdown",
   "metadata": {},
   "source": [
    "You can adopt the same observables used in <a href=\"https://arxiv.org/abs/2103.05577\" class=\"external\">[1]</a> for CartPole, namely a global $Z_0Z_1Z_2Z_3$ Pauli product acting on all qubits, weighted by an action-specific weight for each action. To implement the weighting of the Pauli product, you can use an extra `tf.keras.layers.Layer` that stores the action-specific weights and applies them multiplicatively on the expectation value $\\langle Z_0Z_1Z_2Z_3 \\rangle_{s,\\theta}$."
   ]
  },
  {
   "cell_type": "code",
   "execution_count": 7,
   "metadata": {},
   "outputs": [],
   "source": [
    "class Alternating(tf.keras.layers.Layer):\n",
    "    def __init__(self, output_dim):\n",
    "        super(Alternating, self).__init__()\n",
    "        self.w = tf.Variable(\n",
    "            initial_value=tf.constant([[(-1.)**i for i in range(output_dim)]]), dtype=\"float32\",\n",
    "            trainable=True, name=\"obs-weights\")\n",
    "\n",
    "    def call(self, inputs):\n",
    "        return tf.matmul(inputs, self.w)"
   ]
  },
  {
   "cell_type": "markdown",
   "metadata": {},
   "source": [
    "Using the `generate_circuit` function previously defined, generate the PQC:"
   ]
  },
  {
   "cell_type": "code",
   "execution_count": 8,
   "metadata": {},
   "outputs": [],
   "source": [
    "n = 4 # Dimension of the state vectors in CartPole\n",
    "L = 5 # Number of layers in the PQC\n",
    "nb_actions = 2 # Number of actions in CartPole\n",
    "\n",
    "qubits = [cirq.GridQubit(i,0) for i in range(n)]\n",
    "\n",
    "circuit, theta_dim, params, inputs = generate_circuit(n, L, qubits)"
   ]
  },
  {
   "cell_type": "markdown",
   "metadata": {},
   "source": [
    "and its observables:"
   ]
  },
  {
   "cell_type": "code",
   "execution_count": 9,
   "metadata": {},
   "outputs": [],
   "source": [
    "ops = [cirq.Z(qubits[i]) for i in range(n)]\n",
    "observables = [reduce((lambda x, y: x * y), ops)] # Z_0*Z_1*Z_2*Z_3"
   ]
  },
  {
   "cell_type": "markdown",
   "metadata": {},
   "source": [
    "With this, define a `tf.keras.Model` that applies, sequentially, the `Encoding` layer previously defined, followed by a `ControlledPQC` layer using our Cirq circuit, a post-processing layer that computes the weighted observables using `Alternating`, which are then fed into a `tf.keras.layers.Softmax` layer that outputs the `softmax-VQC` policy of the agent."
   ]
  },
  {
   "cell_type": "code",
   "execution_count": 10,
   "metadata": {},
   "outputs": [],
   "source": [
    "def generate_model_policy(n, L, nb_actions, beta, circuit, theta_dim, params, inputs, observables):\n",
    "    \"\"\"\n",
    "    Takes as input a number of qubits n, a number of layers L, a number of actions, an inverse temperature\n",
    "    beta, a Cirq circuit, a number of variational angles, sympy symbols of variational and encoding angles,\n",
    "    and the observables to be used at the output of the PQC.\n",
    "    Returns the generated model of the PQC policy.\n",
    "    \"\"\"\n",
    "    # Define input tensor\n",
    "    input_tensor = tf.keras.Input(shape=(n), dtype=tf.dtypes.float32, name='input')\n",
    "\n",
    "    # Define input quantum state\n",
    "    input_q_state = tf.keras.Input(shape=(), dtype=tf.string, name='quantum_state')\n",
    "    \n",
    "    #Define encoding layer\n",
    "    encoding_layer = Encoding(input_dim=n, theta_dim=theta_dim, encoding_dim=L, \n",
    "                          angles=[str(param) for param in params]+[str(x) for x in inputs])\n",
    "    \n",
    "    # Define Controlled PQC\n",
    "    expectation_layer = tfq.layers.ControlledPQC(circuit, differentiator = tfq.differentiators.Adjoint(),\n",
    "                                                 operators = observables, name=\"PQC\")\n",
    "    \n",
    "    # Define post-processing\n",
    "    expectation_values = expectation_layer([input_q_state, encoding_layer(input_tensor)])\n",
    "    process = tf.keras.Sequential([\n",
    "        Alternating(nb_actions),\n",
    "        tf.keras.layers.Lambda(lambda x: x * beta),\n",
    "        tf.keras.layers.Softmax()\n",
    "    ], name=\"observables-policy\")\n",
    "    \n",
    "    policy = process(expectation_values)\n",
    "    \n",
    "    # Define model\n",
    "    model = tf.keras.Model(inputs=[input_q_state, input_tensor],\n",
    "                           outputs=policy, name=\"policy\")\n",
    "    \n",
    "    return model\n",
    "\n",
    "model = generate_model_policy(n, L, nb_actions, 1., circuit, theta_dim, params, inputs, observables)"
   ]
  },
  {
   "cell_type": "code",
   "execution_count": 11,
   "metadata": {},
   "outputs": [
    {
     "data": {
      "image/png": "[encoded data removed]",
      "text/plain": [
       "<IPython.core.display.Image object>"
      ]
     },
     "execution_count": 11,
     "metadata": {},
     "output_type": "execute_result"
    }
   ],
   "source": [
    "tf.keras.utils.plot_model(model, show_shapes=True, dpi=70)"
   ]
  },
  {
   "cell_type": "markdown",
   "metadata": {},
   "source": [
    "You can now train the PQC policy on CartPole-v1, using, e.g., the basic `REINFORCE` algorithm (see Alg. 1 in <a href=\"https://arxiv.org/abs/2103.05577\" class=\"external\">[1]</a>). We point out that:\n",
    "1. Because scaling parameters, variational angles and observables weights are trained with different learning rates, it is convenient to define 3 separate optimizers with their own learning rates, each updating one of these groups of parameters.\n",
    "2. The loss function in policy-gradient RL is\n",
    "    $$ \\mathcal{L}(\\theta) = -\\frac{1}{|\\mathcal{B}|}\\sum_{s_0,a_0,r_1,s_1,a_1, \\ldots \\in \\mathcal{B}} \\left(\\sum_{t=0}^{H-1} \\log(\\pi_\\theta(a_t|s_t)) \\sum_{t'=1}^{H-t} \\gamma^{t'} r_{t+t'} \\right)$$\n",
    "for a batch $\\mathcal{B}$ of episodes $(s_0,a_0,r_1,s_1,a_1, \\ldots)$ of interactions in the environment following the policy $\\pi_\\theta$. This is different from a supervised learning loss with fixed target values that the model should fit, which make it impossible to use a simple function call like `model.fit` to train the policy. Instead, using a `tf.GradientTape` allows to keep track of the computations involving the PQC (i.e., policy sampling) and store their contributions to the loss during the interaction. After running a batch of episodes, you can then apply backpropagation on these computations to get the gradients of the loss with respect to the PQC parameters and use the optimizers to update the policy-model."
   ]
  },
  {
   "cell_type": "markdown",
   "metadata": {},
   "source": [
    "Start by defining a function that performs an interaction step in the environment:"
   ]
  },
  {
   "cell_type": "code",
   "execution_count": 12,
   "metadata": {},
   "outputs": [],
   "source": [
    "def interaction_env(state, state_bounds, model, nb_actions, env):\n",
    "    # Preprocess state\n",
    "    state = tf.convert_to_tensor(state/state_bounds)\n",
    "    state = tf.expand_dims(state, 0)\n",
    "\n",
    "    # Compute policy from env state\n",
    "    action_probs = model([empty_circuits(1),state])\n",
    "\n",
    "    # Sample action from policy\n",
    "    action = np.random.choice(nb_actions, p=action_probs[0].numpy())\n",
    "    p_action = action_probs[0, action]\n",
    "\n",
    "    # Apply sampled action in the environment, receive reward and next state\n",
    "    state, reward, done, _ = env.step(action)\n",
    "    \n",
    "    return p_action, state, reward, done\n",
    "\n",
    "def empty_circuits(n):\n",
    "    return tfq.convert_to_tensor([cirq.Circuit()]*n)"
   ]
  },
  {
   "cell_type": "markdown",
   "metadata": {},
   "source": [
    "and a function that computes discounted returns $\\sum_{t'=1}^{H-t} \\gamma^{t'} r_{t+t'}$ out of the rewards $r_t$ collected in an episode:"
   ]
  },
  {
   "cell_type": "code",
   "execution_count": 13,
   "metadata": {},
   "outputs": [],
   "source": [
    "def compute_returns(rewards_history, gamma):\n",
    "    returns = []\n",
    "    discounted_sum = 0\n",
    "    for r in rewards_history[::-1]:\n",
    "        discounted_sum = r + gamma * discounted_sum\n",
    "        returns.insert(0, discounted_sum)\n",
    "\n",
    "    # Normalize them for faster and more stable learning\n",
    "    returns = np.array(returns)\n",
    "    returns = (returns - np.mean(returns)) / (np.std(returns) + 1e-8)\n",
    "    returns = returns.tolist()\n",
    "    \n",
    "    return returns"
   ]
  },
  {
   "cell_type": "markdown",
   "metadata": {},
   "source": [
    "Define the hyperparameters:"
   ]
  },
  {
   "cell_type": "code",
   "execution_count": 14,
   "metadata": {},
   "outputs": [],
   "source": [
    "state_bounds = np.array([2.4, 2.5, 0.21, 2.5])\n",
    "gamma = 1\n",
    "batch_size = 10\n",
    "nb_epsiodes = 500\n",
    "nb_batches = int(nb_epsiodes/batch_size)"
   ]
  },
  {
   "cell_type": "markdown",
   "metadata": {},
   "source": [
    "Prepare the optimizers:"
   ]
  },
  {
   "cell_type": "code",
   "execution_count": 15,
   "metadata": {},
   "outputs": [],
   "source": [
    "optimizer_in = tf.keras.optimizers.Adam(learning_rate=0.1, amsgrad=True)\n",
    "optimizer_var = tf.keras.optimizers.Adam(learning_rate=0.01, amsgrad=True)\n",
    "optimizer_out = tf.keras.optimizers.Adam(learning_rate=0.1, amsgrad=True)\n",
    "\n",
    "# Assign the model parameters to each optimizer\n",
    "w_in, w_var, w_out = 1, 0, 2\n",
    "if (('lambdas' not in model.trainable_variables[w_in].name)\n",
    "    or ('thetas' not in model.trainable_variables[w_var].name)\n",
    "    or ('obs-weights' not in model.trainable_variables[w_out].name)):\n",
    "    raise ValueError(\"Wrong indexing of optimizers parameters.\")"
   ]
  },
  {
   "cell_type": "markdown",
   "metadata": {},
   "source": [
    "Now implement the main training loop of the agent:"
   ]
  },
  {
   "cell_type": "code",
   "execution_count": 16,
   "metadata": {
    "scrolled": true
   },
   "outputs": [
    {
     "name": "stdout",
     "output_type": "stream",
     "text": [
      "Episode 10/500, average last 10 rewards 26.6\n",
      "Episode 20/500, average last 10 rewards 23.7\n",
      "Episode 30/500, average last 10 rewards 19.5\n",
      "Episode 40/500, average last 10 rewards 20.7\n",
      "Episode 50/500, average last 10 rewards 24.4\n",
      "Episode 60/500, average last 10 rewards 18.1\n",
      "Episode 70/500, average last 10 rewards 20.8\n",
      "Episode 80/500, average last 10 rewards 23.5\n",
      "Episode 90/500, average last 10 rewards 39.2\n",
      "Episode 100/500, average last 10 rewards 20.4\n",
      "Episode 110/500, average last 10 rewards 27.1\n",
      "Episode 120/500, average last 10 rewards 36.7\n",
      "Episode 130/500, average last 10 rewards 34.2\n",
      "Episode 140/500, average last 10 rewards 51.1\n",
      "Episode 150/500, average last 10 rewards 50.5\n",
      "Episode 160/500, average last 10 rewards 79.4\n",
      "Episode 170/500, average last 10 rewards 79.7\n",
      "Episode 180/500, average last 10 rewards 125.9\n",
      "Episode 190/500, average last 10 rewards 133.4\n",
      "Episode 200/500, average last 10 rewards 192.6\n",
      "Episode 210/500, average last 10 rewards 246.4\n",
      "Episode 220/500, average last 10 rewards 270.4\n",
      "Episode 230/500, average last 10 rewards 286.8\n",
      "Episode 240/500, average last 10 rewards 388.6\n",
      "Episode 250/500, average last 10 rewards 304.6\n",
      "Episode 260/500, average last 10 rewards 375.9\n",
      "Episode 270/500, average last 10 rewards 484.8\n",
      "Episode 280/500, average last 10 rewards 459.2\n",
      "Episode 290/500, average last 10 rewards 435.7\n",
      "Episode 300/500, average last 10 rewards 492.0\n",
      "Episode 310/500, average last 10 rewards 495.3\n",
      "Episode 320/500, average last 10 rewards 457.4\n",
      "Episode 330/500, average last 10 rewards 498.3\n",
      "Episode 340/500, average last 10 rewards 492.1\n",
      "Episode 350/500, average last 10 rewards 462.0\n",
      "Episode 360/500, average last 10 rewards 451.1\n",
      "Episode 370/500, average last 10 rewards 450.9\n",
      "Episode 380/500, average last 10 rewards 448.0\n",
      "Episode 390/500, average last 10 rewards 396.2\n",
      "Episode 400/500, average last 10 rewards 405.5\n",
      "Episode 410/500, average last 10 rewards 394.9\n",
      "Episode 420/500, average last 10 rewards 363.6\n",
      "Episode 430/500, average last 10 rewards 364.0\n",
      "Episode 440/500, average last 10 rewards 379.6\n",
      "Episode 450/500, average last 10 rewards 399.8\n",
      "Episode 460/500, average last 10 rewards 439.8\n",
      "Episode 470/500, average last 10 rewards 477.0\n",
      "Episode 480/500, average last 10 rewards 468.4\n",
      "Episode 490/500, average last 10 rewards 463.3\n",
      "Episode 500/500, average last 10 rewards 428.9\n"
     ]
    }
   ],
   "source": [
    "env = gym.make(\"CartPole-v1\")\n",
    "\n",
    "# Start training the agent\n",
    "episode_reward_history = []\n",
    "for batch in range(nb_batches):    \n",
    "    loss_value = 0\n",
    "    with tf.GradientTape() as tape:\n",
    "        for episode in range(batch_size):\n",
    "            log_policy_history, rewards_history = [], []\n",
    "            state = env.reset()\n",
    "            episode_reward = 0\n",
    "            done = False\n",
    "            \n",
    "            while not done:\n",
    "                # Interact with env\n",
    "                p_action, state, reward, done = interaction_env(state, state_bounds, model, nb_actions, env)\n",
    "                \n",
    "                # Store contribution to loss\n",
    "                log_policy_history.append(tf.math.log(p_action))\n",
    "                \n",
    "                # Store reward\n",
    "                rewards_history.append(reward)\n",
    "                episode_reward += reward\n",
    "            \n",
    "            # Compute returns \n",
    "            returns = compute_returns(rewards_history, gamma)\n",
    "            \n",
    "            # Add contributions to batch loss\n",
    "            history = zip(log_policy_history, returns)\n",
    "            losses = []\n",
    "            for log_prob, ret in history:\n",
    "                losses.append(-log_prob * ret)\n",
    "            loss_value += sum(losses)\n",
    "            \n",
    "            episode_reward_history.append(episode_reward)\n",
    "            if (batch*batch_size+episode+1)%10 == 0:\n",
    "                print(\"Episode {}/{}, average last 10 rewards {}\".format(batch*batch_size+episode+1,\n",
    "                                            batch_size*nb_batches, np.mean(episode_reward_history[-10:])))\n",
    "        \n",
    "        # Compute gradient and train policy\n",
    "        grads = tape.gradient(loss_value/batch_size, model.trainable_variables)\n",
    "        for optimizer, w in zip([optimizer_in, optimizer_var, optimizer_out], [w_in, w_var, w_out]):\n",
    "            optimizer.apply_gradients([(grads[w], model.trainable_variables[w])])"
   ]
  },
  {
   "cell_type": "markdown",
   "metadata": {},
   "source": [
    "Plot the learning history of the agent:"
   ]
  },
  {
   "cell_type": "code",
   "execution_count": 17,
   "metadata": {},
   "outputs": [
    {
     "data": {
      "image/png": "[encoded data removed]",
      "text/plain": [
       "<Figure size 432x288 with 1 Axes>"
      ]
     },
     "metadata": {
      "needs_background": "light"
     },
     "output_type": "display_data"
    }
   ],
   "source": [
    "plt.plot(episode_reward_history)\n",
    "plt.xlabel('Epsiode')\n",
    "plt.ylabel('Collected rewards')\n",
    "plt.show()"
   ]
  },
  {
   "cell_type": "markdown",
   "metadata": {},
   "source": [
    "## 3. Deep Q-learning with PQC Q-function approximators"
   ]
  },
  {
   "cell_type": "markdown",
   "metadata": {},
   "source": [
    "In this section, we move to the implementation of the deep Q-learning algorithm presented in <a href=\"https://arxiv.org/abs/2103.15084\" class=\"external\">[2]</a>. As opposed to a policy-gradient approach, the deep Q-learning method uses a PQC to approximate the Q-function of the agent. That is, the PQC defines a function approximator:\n",
    "$$ Q_\\theta(s,a) = \\langle O_a \\rangle_{s,\\theta} $$\n",
    "where $\\langle O_a \\rangle_{s,\\theta}$ are expectation values of observables $O_a$ (one per action) measured at the ouput of the PQC.\n",
    "\n",
    "These Q-values are updated using a loss function derived from Q-learning:\n",
    "$$ \\mathcal{L}(\\theta) = \\frac{1}{|\\mathcal{B}|}\\sum_{s,a,r,s' \\in \\mathcal{B}} \\left(Q_\\theta(s,a) - [r +\\max_{a'} Q_{\\theta'}(s',a')]\\right)^2$$\n",
    "for a batch $\\mathcal{B}$ of $1$-step interactions $(s,a,r,s')$ with the environment, sampled from the replay memory, and parameters $\\theta'$ specifying the target PQC (i.e., a copy of the main PQC, whose parameters are sporadically copied from the main PQC throughout learning)."
   ]
  },
  {
   "cell_type": "markdown",
   "metadata": {},
   "source": [
    "You can adopt the same observables used in <a href=\"https://arxiv.org/abs/2103.15084\" class=\"external\">[2]</a> for CartPole, namely a $Z_0Z_1$ Pauli product for action $0$ and a $Z_2Z_3$ Pauli product for action $1$. Both observables are re-scaled so their expectation values are in $[0,1]$ and weighted by an action-specific weight. To implement the re-scaling and weighting of the Pauli products, you can define again an extra `tf.keras.layers.Layer` that stores the action-specific weights and applies them multiplicatively on the expectation values $\\left(1+\\langle Z_0Z_1 \\rangle_{s,\\theta}\\right)/2$ and $\\left(1+\\langle Z_2Z_3 \\rangle_{s,\\theta}\\right)/2$."
   ]
  },
  {
   "cell_type": "code",
   "execution_count": 7,
   "metadata": {},
   "outputs": [],
   "source": [
    "class Rescaling(tf.keras.layers.Layer):\n",
    "    def __init__(self, input_dim):\n",
    "        super(Rescaling, self).__init__()\n",
    "        self.input_dim = input_dim\n",
    "        self.w = tf.Variable(\n",
    "            initial_value=tf.ones(shape=(1,input_dim)), dtype=\"float32\",\n",
    "            trainable=True, name=\"obs-weights\")\n",
    "\n",
    "    def call(self, inputs):\n",
    "        return tf.math.multiply((inputs+1)/2, tf.repeat(self.w,repeats=tf.shape(inputs)[0],axis=0))"
   ]
  },
  {
   "cell_type": "markdown",
   "metadata": {},
   "source": [
    "Using the `generate_circuit` function, generate the PQC and its observables:"
   ]
  },
  {
   "cell_type": "code",
   "execution_count": 8,
   "metadata": {},
   "outputs": [],
   "source": [
    "n = 4 # Dimension of the state vectors in CartPole\n",
    "L = 5 # Number of layers in the PQC\n",
    "nb_actions = 2 # Number of actions in CartPole\n",
    "qubits = [cirq.GridQubit(i,0) for i in range(n)]\n",
    "circuit, theta_dim, params, inputs = generate_circuit(n, L, qubits)\n",
    "ops = [cirq.Z(qubits[i]) for i in range(n)]\n",
    "observables = [ops[0]*ops[1], ops[2]*ops[3]] # Z_0*Z_1 for action 0 and Z_2*Z_3 for action 1"
   ]
  },
  {
   "cell_type": "markdown",
   "metadata": {},
   "source": [
    "Define a `tf.keras.Model` that, similarly to the PQC-policy model, constructs a Q-function approximator that is used to generate the main and target models of our Q-learning agent."
   ]
  },
  {
   "cell_type": "code",
   "execution_count": 9,
   "metadata": {},
   "outputs": [],
   "source": [
    "def generate_model_Qlearning(n, L, circuit, theta_dim, params, inputs, observables, target):\n",
    "    \"\"\"\n",
    "    Takes as input a number of qubits n, a number of layers L, a Cirq circuit, a number of variational angles,\n",
    "    sympy symbols of variational and encoding angles, the observables to be used at the output of the PQC,\n",
    "    and a boolean specifying if the generated model is a target model or main model.\n",
    "    Returns the generated model of the PQC Q-function approximator.\n",
    "    \"\"\"\n",
    "    # Define input tensor\n",
    "    input_tensor = tf.keras.Input(shape=(n), dtype=tf.dtypes.float32, name='input')\n",
    "\n",
    "    # Define input quantum state\n",
    "    input_q_state = tf.keras.Input(shape=(), dtype=tf.string, name='quantum_state')\n",
    "    \n",
    "    #Define encoding layer\n",
    "    encoding_layer = Encoding(input_dim=n, theta_dim=theta_dim, encoding_dim=L, \n",
    "                         angles=[str(param) for param in params]+[str(x) for x in inputs], activation='tanh')\n",
    "    \n",
    "    # Define Controlled PQC\n",
    "    expectation_layer = tfq.layers.ControlledPQC(circuit, differentiator = tfq.differentiators.Adjoint(),\n",
    "                                                 operators = observables, name=\"PQC\")\n",
    "    \n",
    "    prepend = \"\"\n",
    "    if target:\n",
    "        prepend = \"Target\"\n",
    "    \n",
    "    # Define post-processing\n",
    "    expectation_values = expectation_layer([input_q_state, encoding_layer(input_tensor)])\n",
    "    process = tf.keras.Sequential([\n",
    "        Rescaling(len(observables))\n",
    "    ], name=prepend+\"Q-values\")\n",
    "    \n",
    "    Q_values = process(expectation_values)\n",
    "    \n",
    "    # Define model\n",
    "    model = tf.keras.Model(inputs=[input_q_state, input_tensor],\n",
    "                           outputs=Q_values, name=prepend+\"Q-function\")\n",
    "    \n",
    "    return model\n",
    "\n",
    "model = generate_model_Qlearning(n, L, circuit, theta_dim, params, inputs, observables, False)\n",
    "model_target = generate_model_Qlearning(n, L, circuit, theta_dim, params, inputs, observables, True)\n",
    "\n",
    "model_target.set_weights(model.get_weights())"
   ]
  },
  {
   "cell_type": "code",
   "execution_count": 10,
   "metadata": {},
   "outputs": [
    {
     "data": {
      "image/png": "[encoded data removed]",
      "text/plain": [
       "<IPython.core.display.Image object>"
      ]
     },
     "execution_count": 10,
     "metadata": {},
     "output_type": "execute_result"
    }
   ],
   "source": [
    "tf.keras.utils.plot_model(model, show_shapes=True, dpi=70)"
   ]
  },
  {
   "cell_type": "code",
   "execution_count": 11,
   "metadata": {},
   "outputs": [
    {
     "data": {
      "image/png": "[encoded data removed]",
      "text/plain": [
       "<IPython.core.display.Image object>"
      ]
     },
     "execution_count": 11,
     "metadata": {},
     "output_type": "execute_result"
    }
   ],
   "source": [
    "tf.keras.utils.plot_model(model_target, show_shapes=True, dpi=70)"
   ]
  },
  {
   "cell_type": "markdown",
   "metadata": {},
   "source": [
    "You can now implement the deep Q-learning algorithm and test it on the CartPole-v1 environment. For the policy of the agent, you can use an $\\varepsilon$-greedy policy:\n",
    "$$ \\pi(a|s) =\n",
    "\\begin{cases}\n",
    "\\delta_{a,\\text{argmax}_{a'} Q_\\theta(s,a')}\\quad \\text{w.p.}\\quad 1 - \\varepsilon\\\\\n",
    "\\frac{1}{\\text{num_actions}}\\quad \\quad \\quad \\quad \\text{w.p.}\\quad \\varepsilon\n",
    "\\end{cases} $$\n",
    "where $\\varepsilon$ is multiplicatively decayed at each episode of interaction."
   ]
  },
  {
   "cell_type": "markdown",
   "metadata": {},
   "source": [
    "Start by defining a function that performs an interaction step in the environment:"
   ]
  },
  {
   "cell_type": "code",
   "execution_count": 12,
   "metadata": {},
   "outputs": [],
   "source": [
    "def interaction_env(state, model, epsilon, nb_actions, env):\n",
    "    # Preprocess state\n",
    "    state_array = np.array(state) \n",
    "    state = tf.convert_to_tensor(state_array)\n",
    "    state = tf.expand_dims(state, 0)\n",
    "\n",
    "    # Sample action\n",
    "    coin = random.random()\n",
    "    if coin > epsilon:\n",
    "        q_vals = model([empty_circuits(1),state])\n",
    "        action = int(tf.argmax(q_vals[0]).numpy())\n",
    "    else:\n",
    "        action = np.random.choice(nb_actions)\n",
    "\n",
    "    # Apply sampled action in the environment, receive reward and next state\n",
    "    next_state, reward, done, _ = env.step(action)\n",
    "    \n",
    "    return state_array, action, next_state, reward, done\n",
    "\n",
    "def empty_circuits(n):\n",
    "    return tfq.convert_to_tensor([cirq.Circuit()]*n)"
   ]
  },
  {
   "cell_type": "markdown",
   "metadata": {},
   "source": [
    "and a function that computes the Q-learning loss:"
   ]
  },
  {
   "cell_type": "code",
   "execution_count": 13,
   "metadata": {},
   "outputs": [],
   "source": [
    "def Q_learning_loss(replay_memory, batch_size, loss_function, model, model_target, gamma, nb_actions):\n",
    "    # Sample a batch of interactions\n",
    "    batch = random.choices(replay_memory, k=batch_size)\n",
    "    batch = interaction(*zip(*batch))\n",
    "\n",
    "    # Compute their target q_values and the masks on sampled actions\n",
    "    future_rewards = model_target.predict([empty_circuits(batch_size),tf.constant(batch.next_state)])\n",
    "    target_q_values = tf.constant(batch.reward) + (gamma * tf.reduce_max(future_rewards, axis=1)\n",
    "                                                   * (1 - tf.constant(batch.done)))\n",
    "    masks = tf.one_hot(batch.action, nb_actions)\n",
    "\n",
    "    # Train the model on the states and target Q-values\n",
    "    with tf.GradientTape() as tape:\n",
    "        q_values = model([empty_circuits(batch_size),tf.constant(batch.state)])\n",
    "        # Apply the masks to the Q-values\n",
    "        q_values_masked = tf.reduce_sum(tf.multiply(q_values, masks), axis=1)\n",
    "        # Calculate loss between target Q-values and model Q-values\n",
    "        loss = loss_function(target_q_values, q_values_masked)\n",
    "    return tape, loss"
   ]
  },
  {
   "cell_type": "markdown",
   "metadata": {},
   "source": [
    "Define the hyperparameters:"
   ]
  },
  {
   "cell_type": "code",
   "execution_count": 14,
   "metadata": {},
   "outputs": [],
   "source": [
    "gamma = 0.99\n",
    "nb_episodes = 2000\n",
    "\n",
    "# Define replay memory\n",
    "max_memory_length = 10000 # Maximum replay length\n",
    "replay_memory = deque(maxlen=max_memory_length)\n",
    "\n",
    "epsilon = 1.0  # Epsilon greedy parameter\n",
    "epsilon_min = 0.01  # Minimum epsilon greedy parameter\n",
    "decay_epsilon = 0.99 # Decay rate of epsilon greedy parameter\n",
    "batch_size = 16\n",
    "update_VQC = 10 # Train the model every update_VQC steps\n",
    "update_target = 30 # Update the target model every update_target steps"
   ]
  },
  {
   "cell_type": "markdown",
   "metadata": {},
   "source": [
    "Prepare the optimizers:"
   ]
  },
  {
   "cell_type": "code",
   "execution_count": 15,
   "metadata": {},
   "outputs": [],
   "source": [
    "optimizer_in = tf.keras.optimizers.Adam(learning_rate=0.001, amsgrad=True)\n",
    "optimizer_var = tf.keras.optimizers.Adam(learning_rate=0.001, amsgrad=True)\n",
    "optimizer_out = tf.keras.optimizers.Adam(learning_rate=0.1, amsgrad=True)\n",
    "\n",
    "# Assign the model parameters to each optimizer\n",
    "w_in, w_var, w_out = 1, 0, 2\n",
    "if (('lambdas' not in model.trainable_variables[w_in].name)\n",
    "    or ('thetas' not in model.trainable_variables[w_var].name)\n",
    "    or ('obs-weights' not in model.trainable_variables[w_out].name)):\n",
    "    raise ValueError(\"Wrong indexing of optimizers parameters.\")"
   ]
  },
  {
   "cell_type": "markdown",
   "metadata": {},
   "source": [
    "Now implement the main training loop of the agent."
   ]
  },
  {
   "cell_type": "markdown",
   "metadata": {},
   "source": [
    "N.B. Training the Q-learning agent until convergence to the optimal policy can take several hours to run. If you only want to test your code, you can train it on a few hundred episodes only. Otherwise, comment/skip the following cell."
   ]
  },
  {
   "cell_type": "code",
   "execution_count": 16,
   "metadata": {},
   "outputs": [],
   "source": [
    "nb_episodes = 500"
   ]
  },
  {
   "cell_type": "code",
   "execution_count": 18,
   "metadata": {
    "scrolled": true
   },
   "outputs": [
    {
     "name": "stdout",
     "output_type": "stream",
     "text": [
      "Episode 10/2000, average last 10 rewards 20.9\n",
      "Episode 20/2000, average last 10 rewards 24.9\n",
      "Episode 30/2000, average last 10 rewards 20.3\n",
      "Episode 40/2000, average last 10 rewards 15.5\n",
      "Episode 50/2000, average last 10 rewards 17.0\n",
      "Episode 60/2000, average last 10 rewards 45.5\n",
      "Episode 70/2000, average last 10 rewards 57.5\n",
      "Episode 80/2000, average last 10 rewards 34.6\n",
      "Episode 90/2000, average last 10 rewards 50.1\n",
      "Episode 100/2000, average last 10 rewards 51.5\n",
      "Episode 110/2000, average last 10 rewards 41.8\n",
      "Episode 120/2000, average last 10 rewards 71.2\n",
      "Episode 130/2000, average last 10 rewards 66.5\n",
      "Episode 140/2000, average last 10 rewards 44.5\n",
      "Episode 150/2000, average last 10 rewards 99.6\n",
      "Episode 160/2000, average last 10 rewards 97.8\n",
      "Episode 170/2000, average last 10 rewards 66.8\n",
      "Episode 180/2000, average last 10 rewards 72.7\n",
      "Episode 190/2000, average last 10 rewards 90.7\n",
      "Episode 200/2000, average last 10 rewards 124.5\n",
      "Episode 210/2000, average last 10 rewards 111.4\n",
      "Episode 220/2000, average last 10 rewards 166.4\n",
      "Episode 230/2000, average last 10 rewards 233.6\n",
      "Episode 240/2000, average last 10 rewards 228.9\n",
      "Episode 250/2000, average last 10 rewards 89.7\n",
      "Episode 260/2000, average last 10 rewards 119.3\n",
      "Episode 270/2000, average last 10 rewards 169.1\n",
      "Episode 280/2000, average last 10 rewards 83.6\n",
      "Episode 290/2000, average last 10 rewards 116.9\n",
      "Episode 300/2000, average last 10 rewards 125.3\n",
      "Episode 310/2000, average last 10 rewards 104.7\n",
      "Episode 320/2000, average last 10 rewards 76.7\n",
      "Episode 330/2000, average last 10 rewards 76.8\n",
      "Episode 340/2000, average last 10 rewards 99.0\n",
      "Episode 350/2000, average last 10 rewards 122.4\n",
      "Episode 360/2000, average last 10 rewards 160.8\n",
      "Episode 370/2000, average last 10 rewards 145.4\n",
      "Episode 380/2000, average last 10 rewards 110.2\n",
      "Episode 390/2000, average last 10 rewards 133.4\n",
      "Episode 400/2000, average last 10 rewards 64.0\n",
      "Episode 410/2000, average last 10 rewards 194.9\n",
      "Episode 420/2000, average last 10 rewards 250.4\n",
      "Episode 430/2000, average last 10 rewards 54.4\n",
      "Episode 440/2000, average last 10 rewards 34.2\n",
      "Episode 450/2000, average last 10 rewards 48.1\n",
      "Episode 460/2000, average last 10 rewards 126.4\n",
      "Episode 470/2000, average last 10 rewards 216.1\n",
      "Episode 480/2000, average last 10 rewards 164.1\n",
      "Episode 490/2000, average last 10 rewards 78.1\n",
      "Episode 500/2000, average last 10 rewards 49.9\n",
      "Episode 510/2000, average last 10 rewards 53.7\n",
      "Episode 520/2000, average last 10 rewards 63.3\n",
      "Episode 530/2000, average last 10 rewards 59.6\n",
      "Episode 540/2000, average last 10 rewards 52.7\n",
      "Episode 550/2000, average last 10 rewards 75.2\n",
      "Episode 560/2000, average last 10 rewards 47.7\n",
      "Episode 570/2000, average last 10 rewards 57.8\n",
      "Episode 580/2000, average last 10 rewards 57.7\n",
      "Episode 590/2000, average last 10 rewards 63.7\n",
      "Episode 600/2000, average last 10 rewards 97.7\n",
      "Episode 610/2000, average last 10 rewards 64.2\n",
      "Episode 620/2000, average last 10 rewards 59.6\n",
      "Episode 630/2000, average last 10 rewards 62.8\n",
      "Episode 640/2000, average last 10 rewards 115.0\n",
      "Episode 650/2000, average last 10 rewards 178.8\n",
      "Episode 660/2000, average last 10 rewards 166.8\n",
      "Episode 670/2000, average last 10 rewards 143.2\n",
      "Episode 680/2000, average last 10 rewards 120.7\n",
      "Episode 690/2000, average last 10 rewards 175.1\n",
      "Episode 700/2000, average last 10 rewards 218.7\n",
      "Episode 710/2000, average last 10 rewards 175.0\n",
      "Episode 720/2000, average last 10 rewards 194.7\n",
      "Episode 730/2000, average last 10 rewards 178.6\n",
      "Episode 740/2000, average last 10 rewards 148.0\n",
      "Episode 750/2000, average last 10 rewards 153.3\n",
      "Episode 760/2000, average last 10 rewards 233.9\n",
      "Episode 770/2000, average last 10 rewards 176.7\n",
      "Episode 780/2000, average last 10 rewards 186.2\n",
      "Episode 790/2000, average last 10 rewards 207.1\n",
      "Episode 800/2000, average last 10 rewards 166.1\n",
      "Episode 810/2000, average last 10 rewards 136.5\n",
      "Episode 820/2000, average last 10 rewards 282.7\n",
      "Episode 830/2000, average last 10 rewards 406.2\n",
      "Episode 840/2000, average last 10 rewards 345.4\n",
      "Episode 850/2000, average last 10 rewards 304.4\n",
      "Episode 860/2000, average last 10 rewards 436.2\n",
      "Episode 870/2000, average last 10 rewards 441.9\n",
      "Episode 880/2000, average last 10 rewards 318.7\n",
      "Episode 890/2000, average last 10 rewards 376.0\n",
      "Episode 900/2000, average last 10 rewards 241.5\n",
      "Episode 910/2000, average last 10 rewards 443.2\n",
      "Episode 920/2000, average last 10 rewards 451.3\n",
      "Episode 930/2000, average last 10 rewards 477.6\n",
      "Episode 940/2000, average last 10 rewards 428.2\n",
      "Episode 950/2000, average last 10 rewards 420.0\n",
      "Episode 960/2000, average last 10 rewards 474.7\n",
      "Episode 970/2000, average last 10 rewards 327.9\n",
      "Episode 980/2000, average last 10 rewards 446.0\n",
      "Episode 990/2000, average last 10 rewards 454.3\n",
      "Episode 1000/2000, average last 10 rewards 302.8\n",
      "Episode 1010/2000, average last 10 rewards 438.2\n",
      "Episode 1020/2000, average last 10 rewards 478.4\n",
      "Episode 1030/2000, average last 10 rewards 338.4\n",
      "Episode 1040/2000, average last 10 rewards 487.8\n",
      "Episode 1050/2000, average last 10 rewards 471.5\n",
      "Episode 1060/2000, average last 10 rewards 460.4\n",
      "Episode 1070/2000, average last 10 rewards 461.8\n",
      "Episode 1080/2000, average last 10 rewards 500.0\n",
      "Episode 1090/2000, average last 10 rewards 463.2\n",
      "Episode 1100/2000, average last 10 rewards 484.6\n",
      "Episode 1110/2000, average last 10 rewards 500.0\n",
      "Episode 1120/2000, average last 10 rewards 500.0\n",
      "Episode 1130/2000, average last 10 rewards 500.0\n",
      "Episode 1140/2000, average last 10 rewards 500.0\n",
      "Episode 1150/2000, average last 10 rewards 396.1\n",
      "Episode 1160/2000, average last 10 rewards 457.5\n",
      "Episode 1170/2000, average last 10 rewards 500.0\n",
      "Episode 1180/2000, average last 10 rewards 466.7\n",
      "Episode 1190/2000, average last 10 rewards 491.2\n",
      "Episode 1200/2000, average last 10 rewards 500.0\n",
      "Episode 1210/2000, average last 10 rewards 489.4\n",
      "Episode 1220/2000, average last 10 rewards 488.5\n",
      "Episode 1230/2000, average last 10 rewards 490.2\n",
      "Episode 1240/2000, average last 10 rewards 498.6\n",
      "Episode 1250/2000, average last 10 rewards 485.5\n",
      "Episode 1260/2000, average last 10 rewards 491.3\n",
      "Episode 1270/2000, average last 10 rewards 500.0\n",
      "Episode 1280/2000, average last 10 rewards 500.0\n",
      "Episode 1290/2000, average last 10 rewards 500.0\n",
      "Episode 1300/2000, average last 10 rewards 400.8\n",
      "Episode 1310/2000, average last 10 rewards 482.5\n",
      "Episode 1320/2000, average last 10 rewards 500.0\n",
      "Episode 1330/2000, average last 10 rewards 498.5\n",
      "Episode 1340/2000, average last 10 rewards 500.0\n",
      "Episode 1350/2000, average last 10 rewards 500.0\n",
      "Episode 1360/2000, average last 10 rewards 488.1\n",
      "Episode 1370/2000, average last 10 rewards 500.0\n",
      "Episode 1380/2000, average last 10 rewards 500.0\n",
      "Episode 1390/2000, average last 10 rewards 500.0\n",
      "Episode 1400/2000, average last 10 rewards 480.2\n",
      "Episode 1410/2000, average last 10 rewards 500.0\n",
      "Episode 1420/2000, average last 10 rewards 500.0\n",
      "Episode 1430/2000, average last 10 rewards 500.0\n",
      "Episode 1440/2000, average last 10 rewards 500.0\n",
      "Episode 1450/2000, average last 10 rewards 500.0\n",
      "Episode 1460/2000, average last 10 rewards 500.0\n",
      "Episode 1470/2000, average last 10 rewards 500.0\n",
      "Episode 1480/2000, average last 10 rewards 500.0\n",
      "Episode 1490/2000, average last 10 rewards 500.0\n",
      "Episode 1500/2000, average last 10 rewards 500.0\n",
      "Episode 1510/2000, average last 10 rewards 500.0\n",
      "Episode 1520/2000, average last 10 rewards 478.1\n",
      "Episode 1530/2000, average last 10 rewards 500.0\n",
      "Episode 1540/2000, average last 10 rewards 500.0\n",
      "Episode 1550/2000, average last 10 rewards 500.0\n",
      "Episode 1560/2000, average last 10 rewards 500.0\n",
      "Episode 1570/2000, average last 10 rewards 490.7\n",
      "Episode 1580/2000, average last 10 rewards 500.0\n",
      "Episode 1590/2000, average last 10 rewards 500.0\n",
      "Episode 1600/2000, average last 10 rewards 500.0\n",
      "Episode 1610/2000, average last 10 rewards 500.0\n",
      "Episode 1620/2000, average last 10 rewards 500.0\n",
      "Episode 1630/2000, average last 10 rewards 500.0\n",
      "Episode 1640/2000, average last 10 rewards 475.4\n",
      "Episode 1650/2000, average last 10 rewards 500.0\n",
      "Episode 1660/2000, average last 10 rewards 500.0\n",
      "Episode 1670/2000, average last 10 rewards 494.4\n",
      "Episode 1680/2000, average last 10 rewards 500.0\n",
      "Episode 1690/2000, average last 10 rewards 462.6\n",
      "Episode 1700/2000, average last 10 rewards 500.0\n",
      "Episode 1710/2000, average last 10 rewards 500.0\n"
     ]
    },
    {
     "name": "stdout",
     "output_type": "stream",
     "text": [
      "Episode 1720/2000, average last 10 rewards 347.0\n",
      "Episode 1730/2000, average last 10 rewards 500.0\n",
      "Episode 1740/2000, average last 10 rewards 488.1\n",
      "Episode 1750/2000, average last 10 rewards 460.7\n",
      "Episode 1760/2000, average last 10 rewards 492.1\n",
      "Episode 1770/2000, average last 10 rewards 492.3\n",
      "Episode 1780/2000, average last 10 rewards 500.0\n",
      "Episode 1790/2000, average last 10 rewards 500.0\n",
      "Episode 1800/2000, average last 10 rewards 461.0\n",
      "Episode 1810/2000, average last 10 rewards 500.0\n",
      "Episode 1820/2000, average last 10 rewards 500.0\n",
      "Episode 1830/2000, average last 10 rewards 500.0\n",
      "Episode 1840/2000, average last 10 rewards 490.2\n",
      "Episode 1850/2000, average last 10 rewards 500.0\n",
      "Episode 1860/2000, average last 10 rewards 500.0\n",
      "Episode 1870/2000, average last 10 rewards 500.0\n",
      "Episode 1880/2000, average last 10 rewards 500.0\n",
      "Episode 1890/2000, average last 10 rewards 500.0\n",
      "Episode 1900/2000, average last 10 rewards 500.0\n",
      "Episode 1910/2000, average last 10 rewards 500.0\n",
      "Episode 1920/2000, average last 10 rewards 500.0\n",
      "Episode 1930/2000, average last 10 rewards 500.0\n",
      "Episode 1940/2000, average last 10 rewards 500.0\n",
      "Episode 1950/2000, average last 10 rewards 500.0\n",
      "Episode 1960/2000, average last 10 rewards 493.8\n",
      "Episode 1970/2000, average last 10 rewards 457.0\n",
      "Episode 1980/2000, average last 10 rewards 500.0\n",
      "Episode 1990/2000, average last 10 rewards 500.0\n",
      "Episode 2000/2000, average last 10 rewards 500.0\n"
     ]
    }
   ],
   "source": [
    "env = gym.make(\"CartPole-v1\")\n",
    "\n",
    "interaction = namedtuple('interaction', ('state', 'action', 'reward', 'next_state', 'done'))\n",
    "\n",
    "# Prepare loss function\n",
    "loss_function = tf.keras.losses.Huber()\n",
    "    \n",
    "episode_reward_history = []\n",
    "step_count = 0\n",
    "for episode in range(nb_episodes):\n",
    "    episode_reward = 0\n",
    "    state = env.reset()\n",
    "    done = False\n",
    "    \n",
    "    while not done:\n",
    "        # Increase step count\n",
    "        step_count += 1\n",
    "        \n",
    "        # Interact with env\n",
    "        state, action, next_state, reward, done = interaction_env(state, model, epsilon, nb_actions, env)\n",
    "        \n",
    "        # Store last interaction in the replay memory\n",
    "        sarsd = interaction(np.copy(state), action, reward, np.copy(next_state), float(done))\n",
    "        replay_memory.append(sarsd)\n",
    "        \n",
    "        state = np.array(next_state)\n",
    "        episode_reward += reward\n",
    "        \n",
    "        # Update model\n",
    "        if step_count % update_VQC == 0 and len(replay_memory) >= batch_size:\n",
    "            # Compute loss\n",
    "            tape, loss = Q_learning_loss(replay_memory, batch_size, loss_function, model, model_target, \n",
    "                                         gamma, nb_actions)\n",
    "\n",
    "            # Backpropagation\n",
    "            grads = tape.gradient(loss, model.trainable_variables)\n",
    "            for optimizer, w in zip([optimizer_in, optimizer_var, optimizer_out], [w_in, w_var, w_out]):\n",
    "                optimizer.apply_gradients([(grads[w], model.trainable_variables[w])])\n",
    "        \n",
    "        # Update target model\n",
    "        if episode % update_target == 0:\n",
    "            model_target.set_weights(model.get_weights())\n",
    "\n",
    "    # Decay epsilon\n",
    "    epsilon = max(epsilon * decay_epsilon, epsilon_min)\n",
    "    episode_reward_history.append(episode_reward)\n",
    "    if (episode+1)%10 == 0:\n",
    "        print(\"Episode {}/{}, average last 10 rewards {}\".format(episode+1, nb_episodes,\n",
    "                                                          np.mean(episode_reward_history[-10:])))"
   ]
  },
  {
   "cell_type": "markdown",
   "metadata": {},
   "source": [
    "Plot the learning history of the agent:"
   ]
  },
  {
   "cell_type": "code",
   "execution_count": 19,
   "metadata": {},
   "outputs": [
    {
     "data": {
      "image/png": "[encoded data removed]",
      "text/plain": [
       "<Figure size 432x288 with 1 Axes>"
      ]
     },
     "metadata": {
      "needs_background": "light"
     },
     "output_type": "display_data"
    }
   ],
   "source": [
    "plt.plot(episode_reward_history)\n",
    "plt.xlabel('Epsiode')\n",
    "plt.ylabel('Collected rewards')\n",
    "plt.show()"
   ]
  },
  {
   "cell_type": "markdown",
   "metadata": {},
   "source": [
    "## 4. Exercise\n",
    "\n",
    "Combine the PQC models of the last two sections into an [actor-critic agent](https://lilianweng.github.io/lil-log/2018/04/08/policy-gradient-algorithms.html#actor-critic) that solves CartPole."
   ]
  }
 ],
 "metadata": {
  "kernelspec": {
   "display_name": "Python 3",
   "language": "python",
   "name": "python3"
  },
  "language_info": {
   "codemirror_mode": {
    "name": "ipython",
    "version": 3
   },
   "file_extension": ".py",
   "mimetype": "text/x-python",
   "name": "python",
   "nbconvert_exporter": "python",
   "pygments_lexer": "ipython3",
   "version": "3.8.5"
  }
 },
 "nbformat": 4,
 "nbformat_minor": 4
}
